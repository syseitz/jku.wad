{
 "cells": [
  {
   "cell_type": "markdown",
   "id": "1aac7753",
   "metadata": {},
   "source": [
    "# `jku.wad` graded evaluation"
   ]
  },
  {
   "cell_type": "code",
   "execution_count": null,
   "id": "0ca47bc7",
   "metadata": {},
   "outputs": [],
   "source": [
    "%load_ext autoreload\n",
    "%autoreload 2"
   ]
  },
  {
   "cell_type": "code",
   "execution_count": null,
   "id": "55831767",
   "metadata": {},
   "outputs": [],
   "source": [
    "import os\n",
    "import random\n",
    "import yaml\n",
    "from collections import defaultdict\n",
    "\n",
    "from doom_arena import VizdoomMPEnv"
   ]
  },
  {
   "cell_type": "code",
   "execution_count": null,
   "id": "24390271",
   "metadata": {},
   "outputs": [],
   "source": [
    "SUBMISSION_DIR = \"\""
   ]
  },
  {
   "cell_type": "markdown",
   "id": "718af710",
   "metadata": {},
   "source": [
    "## Run tournament"
   ]
  },
  {
   "cell_type": "code",
   "execution_count": null,
   "id": "6b4fc44f",
   "metadata": {},
   "outputs": [],
   "source": [
    "def load_onnx(path):\n",
    "    # TODO\n",
    "    def rnd_policy(obs):\n",
    "        act = 2\n",
    "        return act\n",
    "\n",
    "    return rnd_policy\n",
    "\n",
    "\n",
    "def evaluate_submission(submission, num_episodes: int = 5):\n",
    "    # TODO student env configs\n",
    "    # player_configs = [yaml.safe_load(submissions[p]) for p in players]\n",
    "    player_config = {}\n",
    "    player_agent = load_onnx(submission)\n",
    "    env = VizdoomMPEnv(\n",
    "        num_players=1,\n",
    "        num_bots=2,\n",
    "        bot_skill=0,\n",
    "        doom_map=\"ROOM\",\n",
    "        extra_state=[pcfg.get(\"extra_state\", None) for pcfg in player_config],\n",
    "        crosshair=[pcfg.get(\"crosshair\", False) for pcfg in player_config],\n",
    "        hud=[pcfg.get(\"hud\", \"full\") for pcfg in player_config],\n",
    "        episode_timeout=2000,\n",
    "    )\n",
    "\n",
    "    returns = []\n",
    "    for _ in range(num_episodes):\n",
    "        ep_return = 0.0\n",
    "        obs = env.reset()\n",
    "        done = False\n",
    "        while not done:\n",
    "            player_acts = player_agent(obs)\n",
    "            obs, rwd, done, _ = env.step(player_acts)\n",
    "            ep_return += rwd\n",
    "\n",
    "        returns.append(ep_return)\n",
    "\n",
    "    # average episodes\n",
    "    return sum(returns) / num_episodes\n",
    "\n",
    "\n",
    "def compute_grade(ret):\n",
    "    # TODO grading function baseline\n",
    "    return 1.0"
   ]
  },
  {
   "cell_type": "code",
   "execution_count": null,
   "id": "d9a9d317",
   "metadata": {},
   "outputs": [],
   "source": [
    "# TODO what is the default naming pattern?\n",
    "submissions = {}\n",
    "for filename in os.listdir(SUBMISSION_DIR):\n",
    "    if filename.endswith(\".onnx\"):\n",
    "        submissions[filename] = os.path.join(SUBMISSION_DIR, filename)\n",
    "\n",
    "returns, grades = {}, {}\n",
    "for st_id, submission in submissions.items():\n",
    "    returns[st_id] = evaluate_submission(submission)\n",
    "    grades[st_id] = compute_grade(returns[st_id])"
   ]
  }
 ],
 "metadata": {
  "kernelspec": {
   "display_name": "mhd",
   "language": "python",
   "name": "python3"
  },
  "language_info": {
   "codemirror_mode": {
    "name": "ipython",
    "version": 3
   },
   "file_extension": ".py",
   "mimetype": "text/x-python",
   "name": "python",
   "nbconvert_exporter": "python",
   "pygments_lexer": "ipython3",
   "version": "3.12.7"
  }
 },
 "nbformat": 4,
 "nbformat_minor": 5
}
