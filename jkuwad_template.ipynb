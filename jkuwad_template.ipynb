{
  "cells": [
    {
      "cell_type": "markdown",
      "metadata": {
        "id": "hZLFJuX3_vID"
      },
      "source": [
        "# 🧠 Deep Reinforcement Learning — Doom Agent (SS2025)\n",
        "\n",
        "Welcome to the last assignment for the **Deep Reinforcement Learning** course (SS2025). In this notebook, you'll implement and train a reinforcement learning agent to play **Doom**.\n",
        "\n",
        "You will:\n",
        "- Set up a custom VizDoom environment with shaped rewards\n",
        "- Train an agent using an approach of your choice\n",
        "- Track reward components across episodes\n",
        "- Evaluate the best model\n",
        "- Visualize performance with replays and GIFs\n",
        "- Export the trained agent to ONNX to submit to the evaluation server"
      ]
    },
    {
      "cell_type": "code",
      "execution_count": 1,
      "metadata": {
        "id": "mi5FBK3oi1lI"
      },
      "outputs": [
        {
          "name": "stderr",
          "output_type": "stream",
          "text": [
            "Cloning into '/jku.wad'...\n"
          ]
        }
      ],
      "source": [
        "import os\n",
        "import subprocess\n",
        "\n",
        "base_dir = os.path.abspath(os.getcwd())\n",
        "dir_path = os.path.join(base_dir, \"jku.wad\")\n",
        "\n",
        "if os.path.isdir(dir_path):\n",
        "    os.chdir(dir_path)\n",
        "    subprocess.run([\"git\", \"pull\", \"origin\", \"main\"])\n",
        "else:\n",
        "    subprocess.run([\"git\", \"clone\", \"https://github.com/syseitz/jku.wad.git\", dir_path])\n",
        "    os.chdir(dir_path)"
      ]
    },
    {
      "cell_type": "code",
      "execution_count": null,
      "metadata": {
        "id": "oYTcQU_TiP06"
      },
      "outputs": [
        {
          "name": "stdout",
          "output_type": "stream",
          "text": [
            "Requirement already satisfied: pip in /usr/local/lib/python3.10/dist-packages (23.1.2)\n"
          ]
        }
      ],
      "source": [
        "# Install the dependencies\n",
        "!python -m pip install --upgrade pip\n",
        "!pip install --upgrade notebook ipywidgets ipykernel -q\n",
        "!pip install torch numpy matplotlib vizdoom portpicker gym onnx wandb stable-baselines3 stable-baselines3[extra] Shimmy einops torchvision -q"
      ]
    },
    {
      "cell_type": "markdown",
      "metadata": {
        "id": "pDz9CHjVzP61"
      },
      "source": [
        "## Environment configuration\n",
        "\n",
        "ViZDoom supports multiple visual buffers that can be used as input for training agents. Each buffer provides different information about the game environment, as seen from left to right:\n",
        "\n",
        "\n",
        "Screen\n",
        "- The default first-person RGB view seen by the agent.\n",
        "\n",
        "Labels\n",
        "- A semantic map where each pixel is tagged with an object ID (e.g., enemy, item, wall).\n",
        "\n",
        "Depth\n",
        "- A grayscale map showing the distance from the agent to surfaces in the scene.\n",
        "\n",
        "Automap\n",
        "- A top-down schematic view of the map, useful for global navigation tasks.\n",
        "\n",
        "![buffers gif](https://vizdoom.farama.org/_images/vizdoom-demo.gif)"
      ]
    },
    {
      "cell_type": "code",
      "execution_count": 3,
      "metadata": {
        "id": "8VR5QUw8ieGh"
      },
      "outputs": [],
      "source": [
        "import wandb\n",
        "from typing import Dict, Sequence, Tuple\n",
        "\n",
        "import torch\n",
        "from collections import deque, OrderedDict\n",
        "from copy import deepcopy\n",
        "import random\n",
        "import numpy as np\n",
        "import torch.nn.functional as F\n",
        "import torch.optim as optim\n",
        "import pandas as pd\n",
        "from matplotlib import pyplot as plt\n",
        "from PIL import Image\n",
        "\n",
        "from gym import Env\n",
        "import gymnasium as gym\n",
        "from torch import nn\n",
        "from einops import rearrange\n",
        "\n",
        "from doom_arena import VizdoomMPEnv\n",
        "from doom_arena.reward import VizDoomReward\n",
        "from doom_arena.render import render_episode\n",
        "from IPython.display import HTML\n",
        "\n",
        "from vizdoom import ScreenFormat\n",
        "from stable_baselines3 import DQN\n",
        "from stable_baselines3.common.callbacks import BaseCallback\n",
        "from stable_baselines3.common.torch_layers import BaseFeaturesExtractor"
      ]
    },
    {
      "cell_type": "code",
      "execution_count": 4,
      "metadata": {
        "id": "nmNDlnmfzP62"
      },
      "outputs": [],
      "source": [
        "USE_GRAYSCALE = False # ← flip to False for RGB\n",
        "\n",
        "PLAYER_CONFIG = {\n",
        "    \"n_stack_frames\": 1,\n",
        "    \"extra_state\": [\"depth\", \"labels\"],\n",
        "    \"hud\": \"none\",\n",
        "    \"crosshair\": True,\n",
        "    \"screen_format\": ScreenFormat.GRAY8 if USE_GRAYSCALE else ScreenFormat.CRCGCB,\n",
        "}"
      ]
    },
    {
      "cell_type": "markdown",
      "metadata": {
        "id": "dLoMT0EMzP63"
      },
      "source": [
        "## Reward function\n",
        "In this task, you will define a reward function to guide the agent's learning. The function is called at every step and receives the current and previous game variables (e.g., number of frags, hits taken, health).\n",
        "\n",
        "Your goal is to combine these into a meaningful reward, encouraging desirable behavior, such as:\n",
        "\n",
        "- Rewarding frags (enemy kills)\n",
        "\n",
        "- Rewarding accuracy (hitting enemies)\n",
        "\n",
        "- Penalizing damage taken\n",
        "\n",
        "- (Optional) Encouraging survival, ammo efficiency, etc.\n",
        "\n",
        "You can return multiple reward components, which are summed during training. Consider the class below as a great starting point!"
      ]
    },
    {
      "cell_type": "code",
      "execution_count": 5,
      "metadata": {
        "id": "A3vdawvQzP62"
      },
      "outputs": [],
      "source": [
        "# TODO: environment training paramters\n",
        "N_STACK_FRAMES = 1\n",
        "NUM_BOTS = 4\n",
        "EPISODE_TIMEOUT = 1000\n",
        "# TODO: model hyperparams\n",
        "GAMMA = 0.95\n",
        "EPISODES = 1000\n",
        "BATCH_SIZE = 256\n",
        "REPLAY_BUFFER_SIZE = 5000\n",
        "LEARNING_RATE = 1e-3\n",
        "EPSILON_START = 1.0\n",
        "EPSILON_END = 0.1\n",
        "EPSILON_DECAY = 0.995\n",
        "FEATURES_DIM = 1024\n",
        "#N_EPOCHS = 50"
      ]
    },
    {
      "cell_type": "code",
      "execution_count": 6,
      "metadata": {
        "id": "Gq1xlneLzP63"
      },
      "outputs": [],
      "source": [
        "class YourReward(VizDoomReward):\n",
        "    def __init__(self, num_players: int):\n",
        "        super().__init__(num_players)\n",
        "\n",
        "    def __call__(\n",
        "        self,\n",
        "        vizdoom_reward: float,\n",
        "        game_var: Dict[str, float],\n",
        "        game_var_old: Dict[str, float],\n",
        "        player_id: int,\n",
        "    ) -> Tuple[float, float, float]:\n",
        "        \"\"\"\n",
        "        Custom reward function used by both training and evaluation.\n",
        "        *  +100  for every new frag\n",
        "        *  +2    for every hit landed\n",
        "        *  -0.1  for every hit taken\n",
        "        \"\"\"\n",
        "        self._step += 1\n",
        "        _ = vizdoom_reward, player_id\n",
        "\n",
        "        rwd_hit = 2.0 * (game_var[\"HITCOUNT\"] - game_var_old[\"HITCOUNT\"])\n",
        "        rwd_hit_taken = -0.1 * (game_var[\"HITS_TAKEN\"] - game_var_old[\"HITS_TAKEN\"])\n",
        "        rwd_frag = 100.0 * (game_var[\"FRAGCOUNT\"] - game_var_old[\"FRAGCOUNT\"])\n",
        "\n",
        "        ammo_delta = game_var_old[\"SELECTED_WEAPON_AMMO\"] - game_var[\"SELECTED_WEAPON_AMMO\"]\n",
        "        if ammo_delta > 0:\n",
        "            shots_fired = ammo_delta\n",
        "            hits = game_var[\"HITCOUNT\"] - game_var_old[\"HITCOUNT\"]\n",
        "            missed_shots = max(0, shots_fired - hits)\n",
        "            rwd_missed = -0.5 * missed_shots\n",
        "        else:\n",
        "            rwd_missed = 0\n",
        "\n",
        "        return rwd_hit, rwd_hit_taken, rwd_frag, rwd_missed\n",
        "\n"
      ]
    },
    {
      "cell_type": "code",
      "execution_count": 7,
      "metadata": {
        "colab": {
          "base_uri": "https://localhost:8080/"
        },
        "id": "OzTS4m2VzP63",
        "outputId": "826001b6-834a-4a49-e8c8-2304a24b0f32"
      },
      "outputs": [
        {
          "name": "stdout",
          "output_type": "stream",
          "text": [
            "Host 41195\n",
            "Player 41195\n"
          ]
        }
      ],
      "source": [
        "device = \"cuda\"\n",
        "DTYPE = torch.float32\n",
        "\n",
        "reward_fn = YourReward(num_players=1)\n",
        "\n",
        "env = VizdoomMPEnv(\n",
        "    num_players=1,\n",
        "    num_bots=NUM_BOTS,\n",
        "    bot_skill=0,\n",
        "    doom_map=\"ROOM\",  # NOTE simple, small map; other options: TRNM, TRNMBIG\n",
        "    extra_state=PLAYER_CONFIG[\"extra_state\"], # see info about states at the beginning of 'Environment configuration' above\n",
        "    episode_timeout=EPISODE_TIMEOUT,\n",
        "    n_stack_frames=PLAYER_CONFIG[\"n_stack_frames\"],\n",
        "    crosshair=PLAYER_CONFIG[\"crosshair\"],\n",
        "    hud=PLAYER_CONFIG[\"hud\"],\n",
        "    reward_fn=reward_fn,\n",
        ")"
      ]
    },
    {
      "cell_type": "markdown",
      "metadata": {
        "id": "KkuIefaSzP64"
      },
      "source": [
        "## Agent\n",
        "\n",
        "Implement **your own agent** in the code cell that follows.\n",
        "\n",
        "* In `agents/dqn.py` and `agents/ppo.py` you’ll find very small **skeletons**—they compile but are meant only as reference or quick tests.  \n",
        "  Feel free to open them, borrow ideas, extend them, or ignore them entirely.\n",
        "* The notebook does **not** import those files automatically; whatever class you define in the next cell is the one that will be trained.\n",
        "* You may keep the DQN interface, switch to PPO, or try something else.\n",
        "* Tweak any hyper-parameters (`PLAYER_CONFIG`, ε-schedule, optimiser, etc.) and document what you tried.\n"
      ]
    },
    {
      "cell_type": "code",
      "execution_count": 8,
      "metadata": {
        "id": "vmEX6eV98Xpu"
      },
      "outputs": [],
      "source": [
        "class CustomCNN(BaseFeaturesExtractor):\n",
        "    def __init__(self, observation_space: gym.spaces.Box, features_dim: int = 256):\n",
        "        super(CustomCNN, self).__init__(observation_space, features_dim)\n",
        "        assert isinstance(observation_space, gym.spaces.Box), \"Observation space must be a Box\"\n",
        "\n",
        "        # Annahme: Die Kanäle sind wie folgt geordnet: Bildschirm (3), Tiefe (1), Labels (1)\n",
        "        c = observation_space.shape[2]\n",
        "        screen_ch = 3\n",
        "        depth_ch = 1\n",
        "        labels_ch = 1\n",
        "        assert screen_ch + depth_ch + labels_ch == c, \"Kanal-Mismatch\"\n",
        "\n",
        "        # Definiere CNNs für jeden Teil\n",
        "        self.cnn_screen = nn.Sequential(\n",
        "            nn.Conv2d(screen_ch, 32, kernel_size=8, stride=4, padding=0),\n",
        "            nn.ReLU(),\n",
        "            nn.Conv2d(32, 64, kernel_size=4, stride=2, padding=0),\n",
        "            nn.ReLU(),\n",
        "            nn.Conv2d(64, 64, kernel_size=3, stride=1, padding=0),\n",
        "            nn.ReLU(),\n",
        "            nn.Flatten(),\n",
        "        )\n",
        "\n",
        "        self.cnn_depth = nn.Sequential(\n",
        "            nn.Conv2d(depth_ch, 16, kernel_size=4, stride=2, padding=0),\n",
        "            nn.ReLU(),\n",
        "            nn.Conv2d(16, 32, kernel_size=3, stride=1, padding=0),\n",
        "            nn.ReLU(),\n",
        "            nn.Flatten(),\n",
        "        )\n",
        "\n",
        "        self.cnn_labels = nn.Sequential(\n",
        "            nn.Conv2d(labels_ch, 16, kernel_size=4, stride=2, padding=0),\n",
        "            nn.ReLU(),\n",
        "            nn.Conv2d(16, 32, kernel_size=3, stride=1, padding=0),\n",
        "            nn.ReLU(),\n",
        "            nn.Flatten(),\n",
        "        )\n",
        "\n",
        "        # Berechne die flachen Größen\n",
        "        with torch.no_grad():\n",
        "            sample = torch.as_tensor(observation_space.sample()[None]).float()\n",
        "            sample = rearrange(sample, 'n h w c -> n c h w')\n",
        "            n_flatten_screen = self.cnn_screen(sample[:, :screen_ch, :, :]).shape[1]\n",
        "            n_flatten_depth = self.cnn_depth(sample[:, screen_ch:screen_ch+depth_ch, :, :]).shape[1]\n",
        "            n_flatten_labels = self.cnn_labels(sample[:, screen_ch+depth_ch:, :, :]).shape[1]\n",
        "\n",
        "        total_flatten = n_flatten_screen + n_flatten_depth + n_flatten_labels\n",
        "        self.linear = nn.Sequential(nn.Linear(total_flatten, features_dim), nn.ReLU())\n",
        "\n",
        "    def forward(self, observations: torch.Tensor) -> torch.Tensor:\n",
        "        # observations shape: (N, H, W, C)\n",
        "        observations = rearrange(observations, 'n h w c -> n c h w')\n",
        "        screen = observations[:, :3, :, :]\n",
        "        depth = observations[:, 3:4, :, :]\n",
        "        labels = observations[:, 4:5, :, :]\n",
        "        features_screen = self.cnn_screen(screen)\n",
        "        features_depth = self.cnn_depth(depth)\n",
        "        features_labels = self.cnn_labels(labels)\n",
        "        combined = torch.cat((features_screen, features_depth, features_labels), dim=1)\n",
        "        return self.linear(combined)"
      ]
    },
    {
      "cell_type": "code",
      "execution_count": 9,
      "metadata": {
        "colab": {
          "base_uri": "https://localhost:8080/"
        },
        "id": "n7dWjwTdzP65",
        "outputId": "598d5e62-2050-4063-9884-27fe655ed84a"
      },
      "outputs": [
        {
          "name": "stdout",
          "output_type": "stream",
          "text": [
            "Using cuda device\n",
            "Wrapping the env with a `Monitor` wrapper\n",
            "Wrapping the env in a DummyVecEnv.\n"
          ]
        },
        {
          "name": "stderr",
          "output_type": "stream",
          "text": [
            "/usr/local/lib/python3.10/dist-packages/stable_baselines3/common/vec_env/patch_gym.py:49: UserWarning: You provided an OpenAI Gym environment. We strongly recommend transitioning to Gymnasium environments. Stable-Baselines3 is automatically wrapping your environments in a compatibility layer, which could potentially cause issues.\n",
            "  warnings.warn(\n"
          ]
        }
      ],
      "source": [
        "# ================================================================\n",
        "# Initialise your networks and training utilities\n",
        "# ================================================================\n",
        "\n",
        "# main Q-network\n",
        "in_channels = env.observation_space.shape[0]   # 1 if grayscale, else 3/4\n",
        "#model = DQN(\n",
        "#    input_dim    = in_channels,\n",
        "#    action_space = env.action_space.n,\n",
        "#    hidden       = 64,   # change or ignore\n",
        "#).to(device, dtype=DTYPE)\n",
        "\n",
        "policy_kwargs = dict(\n",
        "    features_extractor_class=CustomCNN,\n",
        "    features_extractor_kwargs=dict(features_dim=FEATURES_DIM),\n",
        ")\n",
        "\n",
        "model = DQN(\n",
        "    \"CnnPolicy\",\n",
        "    env,\n",
        "    learning_rate=LEARNING_RATE,\n",
        "    buffer_size=REPLAY_BUFFER_SIZE,\n",
        "    batch_size=BATCH_SIZE,\n",
        "    gamma=GAMMA,\n",
        "    exploration_fraction=0.15,\n",
        "    exploration_initial_eps=EPSILON_START,\n",
        "    exploration_final_eps=EPSILON_END,\n",
        "    verbose=1,\n",
        "    policy_kwargs=policy_kwargs,\n",
        ")\n",
        "\n",
        "# TODO ------------------------------------------------------------\n",
        "# 1. Create a target network (hard-copy or EMA)\n",
        "# 2. Choose an optimiser + learning-rate schedule\n",
        "# 3. Instantiate a replay buffer and set the initial epsilon value\n",
        "#\n",
        "# Hints:\n",
        "#   model_tgt  = deepcopy(model).to(device)y\n",
        "#   optimiser  = torch.optim.Adam(...)\n",
        "#   scheduler  = torch.optim.lr_scheduler.ExponentialLR(...)\n",
        "#   replay_buf = collections.deque(maxlen=...)\n",
        "# ---------------------------------------------------------------\n",
        "\n",
        "#model_tgt = deepcopy(model).to(device, dtype=DTYPE)\n",
        "#optimizer = optim.Adam(model.parameters(), lr=LEARNING_RATE)\n",
        "#scheduler = optim.lr_scheduler.ExponentialLR(optimizer, gamma=0.99)\n",
        "#replay_buffer = deque(maxlen=REPLAY_BUFFER_SIZE)\n",
        "#epsilon = EPSILON_START\n"
      ]
    },
    {
      "cell_type": "code",
      "execution_count": 10,
      "metadata": {
        "id": "izoQ5C4WPN5y"
      },
      "outputs": [],
      "source": [
        "class EpisodeCallback(BaseCallback):\n",
        "    def __init__(self, verbose=0):\n",
        "        super(EpisodeCallback, self).__init__(verbose)\n",
        "        self.episode_num = 0\n",
        "        self.episode_reward = 0\n",
        "\n",
        "    def _on_step(self) -> bool:\n",
        "        self.episode_reward += self.locals['rewards'][0]\n",
        "        if self.locals['dones'][0]:\n",
        "            self.episode_num += 1\n",
        "            wandb.log({\n",
        "                \"episode\": self.episode_num,\n",
        "                \"return\": self.episode_reward,\n",
        "            })\n",
        "            self.episode_reward = 0\n",
        "        return True"
      ]
    },
    {
      "cell_type": "markdown",
      "metadata": {
        "id": "mihj8Q5xzP65"
      },
      "source": [
        "## Training loop"
      ]
    },
    {
      "cell_type": "code",
      "execution_count": 11,
      "metadata": {
        "colab": {
          "base_uri": "https://localhost:8080/",
          "height": 815,
          "referenced_widgets": [
            "3c31dc8a260d4df1bb95e13f7eb51a24",
            "6598c36296d741b9ba9c4027eb3e326d"
          ]
        },
        "id": "W5V4XMeIk5Uv",
        "outputId": "4494dc46-bb92-4e0c-a0f7-3fe97963eb06"
      },
      "outputs": [
        {
          "name": "stderr",
          "output_type": "stream",
          "text": [
            "\u001b[34m\u001b[1mwandb\u001b[0m: Currently logged in as: \u001b[33msoerenseitz\u001b[0m (\u001b[33msoerenseitz-university-of-vienna\u001b[0m) to \u001b[32mhttps://api.wandb.ai\u001b[0m. Use \u001b[1m`wandb login --relogin`\u001b[0m to force relogin\n"
          ]
        },
        {
          "data": {
            "text/html": [
              "Tracking run with wandb version 0.20.1"
            ],
            "text/plain": [
              "<IPython.core.display.HTML object>"
            ]
          },
          "metadata": {},
          "output_type": "display_data"
        },
        {
          "data": {
            "text/html": [
              "Run data is saved locally in <code>/jku.wad/wandb/run-20250616_125049-dx6i2ksf</code>"
            ],
            "text/plain": [
              "<IPython.core.display.HTML object>"
            ]
          },
          "metadata": {},
          "output_type": "display_data"
        },
        {
          "data": {
            "text/html": [
              "Syncing run <strong><a href='https://wandb.ai/soerenseitz-university-of-vienna/doom-rl/runs/dx6i2ksf' target=\"_blank\">avid-firebrand-35</a></strong> to <a href='https://wandb.ai/soerenseitz-university-of-vienna/doom-rl' target=\"_blank\">Weights & Biases</a> (<a href='https://wandb.me/developer-guide' target=\"_blank\">docs</a>)<br>"
            ],
            "text/plain": [
              "<IPython.core.display.HTML object>"
            ]
          },
          "metadata": {},
          "output_type": "display_data"
        },
        {
          "data": {
            "text/html": [
              " View project at <a href='https://wandb.ai/soerenseitz-university-of-vienna/doom-rl' target=\"_blank\">https://wandb.ai/soerenseitz-university-of-vienna/doom-rl</a>"
            ],
            "text/plain": [
              "<IPython.core.display.HTML object>"
            ]
          },
          "metadata": {},
          "output_type": "display_data"
        },
        {
          "data": {
            "text/html": [
              " View run at <a href='https://wandb.ai/soerenseitz-university-of-vienna/doom-rl/runs/dx6i2ksf' target=\"_blank\">https://wandb.ai/soerenseitz-university-of-vienna/doom-rl/runs/dx6i2ksf</a>"
            ],
            "text/plain": [
              "<IPython.core.display.HTML object>"
            ]
          },
          "metadata": {},
          "output_type": "display_data"
        },
        {
          "data": {
            "application/vnd.jupyter.widget-view+json": {
              "model_id": "5edc9d035d1842a7909f774e6280cce4",
              "version_major": 2,
              "version_minor": 0
            },
            "text/plain": [
              "Output()"
            ]
          },
          "metadata": {},
          "output_type": "display_data"
        },
        {
          "name": "stdout",
          "output_type": "stream",
          "text": [
            "----------------------------------\n",
            "| rollout/            |          |\n",
            "|    ep_len_mean      | 1e+03    |\n",
            "|    ep_rew_mean      | -20.3    |\n",
            "|    exploration_rate | 0.976    |\n",
            "| time/               |          |\n",
            "|    episodes         | 4        |\n",
            "|    fps              | 35       |\n",
            "|    time_elapsed     | 112      |\n",
            "|    total_timesteps  | 4000     |\n",
            "| train/              |          |\n",
            "|    learning_rate    | 0.001    |\n",
            "|    loss             | 0.00333  |\n",
            "|    n_updates        | 974      |\n",
            "----------------------------------\n"
          ]
        },
        {
          "ename": "SignalException",
          "evalue": "Signal SIGINT received. ViZDoom instance has been closed.",
          "output_type": "error",
          "traceback": [
            "\u001b[0;31m---------------------------------------------------------------------------\u001b[0m",
            "\u001b[0;31mSignalException\u001b[0m                           Traceback (most recent call last)",
            "Cell \u001b[0;32mIn[11], line 27\u001b[0m\n\u001b[1;32m     24\u001b[0m callback \u001b[38;5;241m=\u001b[39m EpisodeCallback()\n\u001b[1;32m     26\u001b[0m total_timesteps \u001b[38;5;241m=\u001b[39m \u001b[38;5;241m1000000\u001b[39m\n\u001b[0;32m---> 27\u001b[0m \u001b[43mmodel\u001b[49m\u001b[38;5;241;43m.\u001b[39;49m\u001b[43mlearn\u001b[49m\u001b[43m(\u001b[49m\u001b[43mtotal_timesteps\u001b[49m\u001b[38;5;241;43m=\u001b[39;49m\u001b[43mtotal_timesteps\u001b[49m\u001b[43m,\u001b[49m\u001b[43m \u001b[49m\u001b[43mcallback\u001b[49m\u001b[38;5;241;43m=\u001b[39;49m\u001b[43mcallback\u001b[49m\u001b[43m,\u001b[49m\u001b[43m \u001b[49m\u001b[43mprogress_bar\u001b[49m\u001b[38;5;241;43m=\u001b[39;49m\u001b[38;5;28;43;01mTrue\u001b[39;49;00m\u001b[43m)\u001b[49m\n\u001b[1;32m     28\u001b[0m final_model \u001b[38;5;241m=\u001b[39m model\n",
            "File \u001b[0;32m/usr/local/lib/python3.10/dist-packages/stable_baselines3/dqn/dqn.py:267\u001b[0m, in \u001b[0;36mDQN.learn\u001b[0;34m(self, total_timesteps, callback, log_interval, tb_log_name, reset_num_timesteps, progress_bar)\u001b[0m\n\u001b[1;32m    258\u001b[0m \u001b[38;5;28;01mdef\u001b[39;00m \u001b[38;5;21mlearn\u001b[39m(\n\u001b[1;32m    259\u001b[0m     \u001b[38;5;28mself\u001b[39m: SelfDQN,\n\u001b[1;32m    260\u001b[0m     total_timesteps: \u001b[38;5;28mint\u001b[39m,\n\u001b[0;32m   (...)\u001b[0m\n\u001b[1;32m    265\u001b[0m     progress_bar: \u001b[38;5;28mbool\u001b[39m \u001b[38;5;241m=\u001b[39m \u001b[38;5;28;01mFalse\u001b[39;00m,\n\u001b[1;32m    266\u001b[0m ) \u001b[38;5;241m-\u001b[39m\u001b[38;5;241m>\u001b[39m SelfDQN:\n\u001b[0;32m--> 267\u001b[0m     \u001b[38;5;28;01mreturn\u001b[39;00m \u001b[38;5;28;43msuper\u001b[39;49m\u001b[43m(\u001b[49m\u001b[43m)\u001b[49m\u001b[38;5;241;43m.\u001b[39;49m\u001b[43mlearn\u001b[49m\u001b[43m(\u001b[49m\n\u001b[1;32m    268\u001b[0m \u001b[43m        \u001b[49m\u001b[43mtotal_timesteps\u001b[49m\u001b[38;5;241;43m=\u001b[39;49m\u001b[43mtotal_timesteps\u001b[49m\u001b[43m,\u001b[49m\n\u001b[1;32m    269\u001b[0m \u001b[43m        \u001b[49m\u001b[43mcallback\u001b[49m\u001b[38;5;241;43m=\u001b[39;49m\u001b[43mcallback\u001b[49m\u001b[43m,\u001b[49m\n\u001b[1;32m    270\u001b[0m \u001b[43m        \u001b[49m\u001b[43mlog_interval\u001b[49m\u001b[38;5;241;43m=\u001b[39;49m\u001b[43mlog_interval\u001b[49m\u001b[43m,\u001b[49m\n\u001b[1;32m    271\u001b[0m \u001b[43m        \u001b[49m\u001b[43mtb_log_name\u001b[49m\u001b[38;5;241;43m=\u001b[39;49m\u001b[43mtb_log_name\u001b[49m\u001b[43m,\u001b[49m\n\u001b[1;32m    272\u001b[0m \u001b[43m        \u001b[49m\u001b[43mreset_num_timesteps\u001b[49m\u001b[38;5;241;43m=\u001b[39;49m\u001b[43mreset_num_timesteps\u001b[49m\u001b[43m,\u001b[49m\n\u001b[1;32m    273\u001b[0m \u001b[43m        \u001b[49m\u001b[43mprogress_bar\u001b[49m\u001b[38;5;241;43m=\u001b[39;49m\u001b[43mprogress_bar\u001b[49m\u001b[43m,\u001b[49m\n\u001b[1;32m    274\u001b[0m \u001b[43m    \u001b[49m\u001b[43m)\u001b[49m\n",
            "File \u001b[0;32m/usr/local/lib/python3.10/dist-packages/stable_baselines3/common/off_policy_algorithm.py:328\u001b[0m, in \u001b[0;36mOffPolicyAlgorithm.learn\u001b[0;34m(self, total_timesteps, callback, log_interval, tb_log_name, reset_num_timesteps, progress_bar)\u001b[0m\n\u001b[1;32m    325\u001b[0m \u001b[38;5;28;01massert\u001b[39;00m \u001b[38;5;28misinstance\u001b[39m(\u001b[38;5;28mself\u001b[39m\u001b[38;5;241m.\u001b[39mtrain_freq, TrainFreq)  \u001b[38;5;66;03m# check done in _setup_learn()\u001b[39;00m\n\u001b[1;32m    327\u001b[0m \u001b[38;5;28;01mwhile\u001b[39;00m \u001b[38;5;28mself\u001b[39m\u001b[38;5;241m.\u001b[39mnum_timesteps \u001b[38;5;241m<\u001b[39m total_timesteps:\n\u001b[0;32m--> 328\u001b[0m     rollout \u001b[38;5;241m=\u001b[39m \u001b[38;5;28;43mself\u001b[39;49m\u001b[38;5;241;43m.\u001b[39;49m\u001b[43mcollect_rollouts\u001b[49m\u001b[43m(\u001b[49m\n\u001b[1;32m    329\u001b[0m \u001b[43m        \u001b[49m\u001b[38;5;28;43mself\u001b[39;49m\u001b[38;5;241;43m.\u001b[39;49m\u001b[43menv\u001b[49m\u001b[43m,\u001b[49m\n\u001b[1;32m    330\u001b[0m \u001b[43m        \u001b[49m\u001b[43mtrain_freq\u001b[49m\u001b[38;5;241;43m=\u001b[39;49m\u001b[38;5;28;43mself\u001b[39;49m\u001b[38;5;241;43m.\u001b[39;49m\u001b[43mtrain_freq\u001b[49m\u001b[43m,\u001b[49m\n\u001b[1;32m    331\u001b[0m \u001b[43m        \u001b[49m\u001b[43maction_noise\u001b[49m\u001b[38;5;241;43m=\u001b[39;49m\u001b[38;5;28;43mself\u001b[39;49m\u001b[38;5;241;43m.\u001b[39;49m\u001b[43maction_noise\u001b[49m\u001b[43m,\u001b[49m\n\u001b[1;32m    332\u001b[0m \u001b[43m        \u001b[49m\u001b[43mcallback\u001b[49m\u001b[38;5;241;43m=\u001b[39;49m\u001b[43mcallback\u001b[49m\u001b[43m,\u001b[49m\n\u001b[1;32m    333\u001b[0m \u001b[43m        \u001b[49m\u001b[43mlearning_starts\u001b[49m\u001b[38;5;241;43m=\u001b[39;49m\u001b[38;5;28;43mself\u001b[39;49m\u001b[38;5;241;43m.\u001b[39;49m\u001b[43mlearning_starts\u001b[49m\u001b[43m,\u001b[49m\n\u001b[1;32m    334\u001b[0m \u001b[43m        \u001b[49m\u001b[43mreplay_buffer\u001b[49m\u001b[38;5;241;43m=\u001b[39;49m\u001b[38;5;28;43mself\u001b[39;49m\u001b[38;5;241;43m.\u001b[39;49m\u001b[43mreplay_buffer\u001b[49m\u001b[43m,\u001b[49m\n\u001b[1;32m    335\u001b[0m \u001b[43m        \u001b[49m\u001b[43mlog_interval\u001b[49m\u001b[38;5;241;43m=\u001b[39;49m\u001b[43mlog_interval\u001b[49m\u001b[43m,\u001b[49m\n\u001b[1;32m    336\u001b[0m \u001b[43m    \u001b[49m\u001b[43m)\u001b[49m\n\u001b[1;32m    338\u001b[0m     \u001b[38;5;28;01mif\u001b[39;00m \u001b[38;5;129;01mnot\u001b[39;00m rollout\u001b[38;5;241m.\u001b[39mcontinue_training:\n\u001b[1;32m    339\u001b[0m         \u001b[38;5;28;01mbreak\u001b[39;00m\n",
            "File \u001b[0;32m/usr/local/lib/python3.10/dist-packages/stable_baselines3/common/off_policy_algorithm.py:560\u001b[0m, in \u001b[0;36mOffPolicyAlgorithm.collect_rollouts\u001b[0;34m(self, env, callback, train_freq, replay_buffer, action_noise, learning_starts, log_interval)\u001b[0m\n\u001b[1;32m    557\u001b[0m actions, buffer_actions \u001b[38;5;241m=\u001b[39m \u001b[38;5;28mself\u001b[39m\u001b[38;5;241m.\u001b[39m_sample_action(learning_starts, action_noise, env\u001b[38;5;241m.\u001b[39mnum_envs)\n\u001b[1;32m    559\u001b[0m \u001b[38;5;66;03m# Rescale and perform action\u001b[39;00m\n\u001b[0;32m--> 560\u001b[0m new_obs, rewards, dones, infos \u001b[38;5;241m=\u001b[39m \u001b[43menv\u001b[49m\u001b[38;5;241;43m.\u001b[39;49m\u001b[43mstep\u001b[49m\u001b[43m(\u001b[49m\u001b[43mactions\u001b[49m\u001b[43m)\u001b[49m\n\u001b[1;32m    562\u001b[0m \u001b[38;5;28mself\u001b[39m\u001b[38;5;241m.\u001b[39mnum_timesteps \u001b[38;5;241m+\u001b[39m\u001b[38;5;241m=\u001b[39m env\u001b[38;5;241m.\u001b[39mnum_envs\n\u001b[1;32m    563\u001b[0m num_collected_steps \u001b[38;5;241m+\u001b[39m\u001b[38;5;241m=\u001b[39m \u001b[38;5;241m1\u001b[39m\n",
            "File \u001b[0;32m/usr/local/lib/python3.10/dist-packages/stable_baselines3/common/vec_env/base_vec_env.py:222\u001b[0m, in \u001b[0;36mVecEnv.step\u001b[0;34m(self, actions)\u001b[0m\n\u001b[1;32m    215\u001b[0m \u001b[38;5;250m\u001b[39m\u001b[38;5;124;03m\"\"\"\u001b[39;00m\n\u001b[1;32m    216\u001b[0m \u001b[38;5;124;03mStep the environments with the given action\u001b[39;00m\n\u001b[1;32m    217\u001b[0m \n\u001b[1;32m    218\u001b[0m \u001b[38;5;124;03m:param actions: the action\u001b[39;00m\n\u001b[1;32m    219\u001b[0m \u001b[38;5;124;03m:return: observation, reward, done, information\u001b[39;00m\n\u001b[1;32m    220\u001b[0m \u001b[38;5;124;03m\"\"\"\u001b[39;00m\n\u001b[1;32m    221\u001b[0m \u001b[38;5;28mself\u001b[39m\u001b[38;5;241m.\u001b[39mstep_async(actions)\n\u001b[0;32m--> 222\u001b[0m \u001b[38;5;28;01mreturn\u001b[39;00m \u001b[38;5;28;43mself\u001b[39;49m\u001b[38;5;241;43m.\u001b[39;49m\u001b[43mstep_wait\u001b[49m\u001b[43m(\u001b[49m\u001b[43m)\u001b[49m\n",
            "File \u001b[0;32m/usr/local/lib/python3.10/dist-packages/stable_baselines3/common/vec_env/dummy_vec_env.py:59\u001b[0m, in \u001b[0;36mDummyVecEnv.step_wait\u001b[0;34m(self)\u001b[0m\n\u001b[1;32m     56\u001b[0m \u001b[38;5;28;01mdef\u001b[39;00m \u001b[38;5;21mstep_wait\u001b[39m(\u001b[38;5;28mself\u001b[39m) \u001b[38;5;241m-\u001b[39m\u001b[38;5;241m>\u001b[39m VecEnvStepReturn:\n\u001b[1;32m     57\u001b[0m     \u001b[38;5;66;03m# Avoid circular imports\u001b[39;00m\n\u001b[1;32m     58\u001b[0m     \u001b[38;5;28;01mfor\u001b[39;00m env_idx \u001b[38;5;129;01min\u001b[39;00m \u001b[38;5;28mrange\u001b[39m(\u001b[38;5;28mself\u001b[39m\u001b[38;5;241m.\u001b[39mnum_envs):\n\u001b[0;32m---> 59\u001b[0m         obs, \u001b[38;5;28mself\u001b[39m\u001b[38;5;241m.\u001b[39mbuf_rews[env_idx], terminated, truncated, \u001b[38;5;28mself\u001b[39m\u001b[38;5;241m.\u001b[39mbuf_infos[env_idx] \u001b[38;5;241m=\u001b[39m \u001b[38;5;28;43mself\u001b[39;49m\u001b[38;5;241;43m.\u001b[39;49m\u001b[43menvs\u001b[49m\u001b[43m[\u001b[49m\u001b[43menv_idx\u001b[49m\u001b[43m]\u001b[49m\u001b[38;5;241;43m.\u001b[39;49m\u001b[43mstep\u001b[49m\u001b[43m(\u001b[49m\u001b[43m  \u001b[49m\u001b[38;5;66;43;03m# type: ignore[assignment]\u001b[39;49;00m\n\u001b[1;32m     60\u001b[0m \u001b[43m            \u001b[49m\u001b[38;5;28;43mself\u001b[39;49m\u001b[38;5;241;43m.\u001b[39;49m\u001b[43mactions\u001b[49m\u001b[43m[\u001b[49m\u001b[43menv_idx\u001b[49m\u001b[43m]\u001b[49m\n\u001b[1;32m     61\u001b[0m \u001b[43m        \u001b[49m\u001b[43m)\u001b[49m\n\u001b[1;32m     62\u001b[0m         \u001b[38;5;66;03m# convert to SB3 VecEnv api\u001b[39;00m\n\u001b[1;32m     63\u001b[0m         \u001b[38;5;28mself\u001b[39m\u001b[38;5;241m.\u001b[39mbuf_dones[env_idx] \u001b[38;5;241m=\u001b[39m terminated \u001b[38;5;129;01mor\u001b[39;00m truncated\n",
            "File \u001b[0;32m/usr/local/lib/python3.10/dist-packages/stable_baselines3/common/monitor.py:94\u001b[0m, in \u001b[0;36mMonitor.step\u001b[0;34m(self, action)\u001b[0m\n\u001b[1;32m     92\u001b[0m \u001b[38;5;28;01mif\u001b[39;00m \u001b[38;5;28mself\u001b[39m\u001b[38;5;241m.\u001b[39mneeds_reset:\n\u001b[1;32m     93\u001b[0m     \u001b[38;5;28;01mraise\u001b[39;00m \u001b[38;5;167;01mRuntimeError\u001b[39;00m(\u001b[38;5;124m\"\u001b[39m\u001b[38;5;124mTried to step environment that needs reset\u001b[39m\u001b[38;5;124m\"\u001b[39m)\n\u001b[0;32m---> 94\u001b[0m observation, reward, terminated, truncated, info \u001b[38;5;241m=\u001b[39m \u001b[38;5;28;43mself\u001b[39;49m\u001b[38;5;241;43m.\u001b[39;49m\u001b[43menv\u001b[49m\u001b[38;5;241;43m.\u001b[39;49m\u001b[43mstep\u001b[49m\u001b[43m(\u001b[49m\u001b[43maction\u001b[49m\u001b[43m)\u001b[49m\n\u001b[1;32m     95\u001b[0m \u001b[38;5;28mself\u001b[39m\u001b[38;5;241m.\u001b[39mrewards\u001b[38;5;241m.\u001b[39mappend(\u001b[38;5;28mfloat\u001b[39m(reward))\n\u001b[1;32m     96\u001b[0m \u001b[38;5;28;01mif\u001b[39;00m terminated \u001b[38;5;129;01mor\u001b[39;00m truncated:\n",
            "File \u001b[0;32m/usr/local/lib/python3.10/dist-packages/shimmy/openai_gym_compatibility.py:250\u001b[0m, in \u001b[0;36mGymV21CompatibilityV0.step\u001b[0;34m(self, action)\u001b[0m\n\u001b[1;32m    241\u001b[0m \u001b[38;5;28;01mdef\u001b[39;00m \u001b[38;5;21mstep\u001b[39m(\u001b[38;5;28mself\u001b[39m, action: ActType) \u001b[38;5;241m-\u001b[39m\u001b[38;5;241m>\u001b[39m \u001b[38;5;28mtuple\u001b[39m[Any, \u001b[38;5;28mfloat\u001b[39m, \u001b[38;5;28mbool\u001b[39m, \u001b[38;5;28mbool\u001b[39m, \u001b[38;5;28mdict\u001b[39m]:\n\u001b[1;32m    242\u001b[0m \u001b[38;5;250m    \u001b[39m\u001b[38;5;124;03m\"\"\"Steps through the environment.\u001b[39;00m\n\u001b[1;32m    243\u001b[0m \n\u001b[1;32m    244\u001b[0m \u001b[38;5;124;03m    Args:\u001b[39;00m\n\u001b[0;32m   (...)\u001b[0m\n\u001b[1;32m    248\u001b[0m \u001b[38;5;124;03m        (observation, reward, terminated, truncated, info)\u001b[39;00m\n\u001b[1;32m    249\u001b[0m \u001b[38;5;124;03m    \"\"\"\u001b[39;00m\n\u001b[0;32m--> 250\u001b[0m     obs, reward, done, info \u001b[38;5;241m=\u001b[39m \u001b[38;5;28;43mself\u001b[39;49m\u001b[38;5;241;43m.\u001b[39;49m\u001b[43mgym_env\u001b[49m\u001b[38;5;241;43m.\u001b[39;49m\u001b[43mstep\u001b[49m\u001b[43m(\u001b[49m\u001b[43maction\u001b[49m\u001b[43m)\u001b[49m\n\u001b[1;32m    252\u001b[0m     \u001b[38;5;28;01mif\u001b[39;00m \u001b[38;5;28mself\u001b[39m\u001b[38;5;241m.\u001b[39mrender_mode \u001b[38;5;129;01mis\u001b[39;00m \u001b[38;5;129;01mnot\u001b[39;00m \u001b[38;5;28;01mNone\u001b[39;00m:\n\u001b[1;32m    253\u001b[0m         \u001b[38;5;28mself\u001b[39m\u001b[38;5;241m.\u001b[39mrender()\n",
            "File \u001b[0;32m/jku.wad/doom_arena/doom_env.py:489\u001b[0m, in \u001b[0;36mVizdoomMPEnv.step\u001b[0;34m(self, actions)\u001b[0m\n\u001b[1;32m    487\u001b[0m \u001b[38;5;28;01mdef\u001b[39;00m \u001b[38;5;21mstep\u001b[39m(\u001b[38;5;28mself\u001b[39m, actions):\n\u001b[1;32m    488\u001b[0m     \u001b[38;5;28;01mif\u001b[39;00m \u001b[38;5;28mlen\u001b[39m(\u001b[38;5;28mself\u001b[39m\u001b[38;5;241m.\u001b[39menvs) \u001b[38;5;241m==\u001b[39m \u001b[38;5;241m1\u001b[39m:\n\u001b[0;32m--> 489\u001b[0m         obs, vizdoom_rwd, done, info \u001b[38;5;241m=\u001b[39m \u001b[38;5;28;43mself\u001b[39;49m\u001b[38;5;241;43m.\u001b[39;49m\u001b[43menvs\u001b[49m\u001b[43m[\u001b[49m\u001b[38;5;241;43m0\u001b[39;49m\u001b[43m]\u001b[49m\u001b[38;5;241;43m.\u001b[39;49m\u001b[43mstep\u001b[49m\u001b[43m(\u001b[49m\u001b[43mactions\u001b[49m\u001b[43m)\u001b[49m\n\u001b[1;32m    490\u001b[0m         rwd \u001b[38;5;241m=\u001b[39m \u001b[38;5;28mself\u001b[39m\u001b[38;5;241m.\u001b[39mreward_fn(\n\u001b[1;32m    491\u001b[0m             vizdoom_rwd,\n\u001b[1;32m    492\u001b[0m             \u001b[38;5;28mself\u001b[39m\u001b[38;5;241m.\u001b[39menvs[\u001b[38;5;241m0\u001b[39m]\u001b[38;5;241m.\u001b[39munwrapped\u001b[38;5;241m.\u001b[39m_game_vars,\n\u001b[1;32m    493\u001b[0m             \u001b[38;5;28mself\u001b[39m\u001b[38;5;241m.\u001b[39menvs[\u001b[38;5;241m0\u001b[39m]\u001b[38;5;241m.\u001b[39munwrapped\u001b[38;5;241m.\u001b[39m_game_vars_pre,\n\u001b[1;32m    494\u001b[0m             \u001b[38;5;241m0\u001b[39m,\n\u001b[1;32m    495\u001b[0m         )\n\u001b[1;32m    496\u001b[0m         rwd \u001b[38;5;241m=\u001b[39m \u001b[38;5;28msum\u001b[39m(rwd)\n",
            "File \u001b[0;32m/jku.wad/doom_arena/doom_env.py:206\u001b[0m, in \u001b[0;36mPlayerEnv.step\u001b[0;34m(self, action)\u001b[0m\n\u001b[1;32m    203\u001b[0m     action \u001b[38;5;241m=\u001b[39m processed_action \u001b[38;5;66;03m# Use the processed list for ViZDoom\u001b[39;00m\n\u001b[1;32m    204\u001b[0m \u001b[38;5;66;03m# action = self.adjust_action(action)\u001b[39;00m\n\u001b[1;32m    205\u001b[0m \u001b[38;5;66;03m# vizdoom step\u001b[39;00m\n\u001b[0;32m--> 206\u001b[0m rwd \u001b[38;5;241m=\u001b[39m \u001b[38;5;28;43mself\u001b[39;49m\u001b[38;5;241;43m.\u001b[39;49m\u001b[43mgame\u001b[49m\u001b[38;5;241;43m.\u001b[39;49m\u001b[43mmake_action\u001b[49m\u001b[43m(\u001b[49m\u001b[43maction\u001b[49m\u001b[43m,\u001b[49m\u001b[43m \u001b[49m\u001b[43mtics\u001b[49m\u001b[38;5;241;43m=\u001b[39;49m\u001b[38;5;28;43mself\u001b[39;49m\u001b[38;5;241;43m.\u001b[39;49m\u001b[43mframe_skip\u001b[49m\u001b[43m)\u001b[49m\n\u001b[1;32m    207\u001b[0m \u001b[38;5;28mself\u001b[39m\u001b[38;5;241m.\u001b[39m_state, obs, done \u001b[38;5;241m=\u001b[39m \u001b[38;5;28mself\u001b[39m\u001b[38;5;241m.\u001b[39m_grab()\n\u001b[1;32m    209\u001b[0m \u001b[38;5;28mself\u001b[39m\u001b[38;5;241m.\u001b[39m_record_replay(obs)\n",
            "\u001b[0;31mSignalException\u001b[0m: Signal SIGINT received. ViZDoom instance has been closed."
          ]
        }
      ],
      "source": [
        "# ---------------------  TRAINING LOOP  ----------------------\n",
        "# Feel free to change EVERYTHING below:\n",
        "#   • choose your own reward function\n",
        "#   • track different episode statistics in `ep_metrics`\n",
        "#   • switch optimiser, scheduler, update rules, etc.\n",
        "run = wandb.init(project=\"doom-rl\", entity=\"soerenseitz-university-of-vienna\", config={\n",
        "    \"gamma\": GAMMA,\n",
        "    \"episodes\": EPISODES,\n",
        "    \"batch_size\": BATCH_SIZE,\n",
        "    \"replay_buffer_size\": REPLAY_BUFFER_SIZE,\n",
        "    \"learning_rate\": LEARNING_RATE,\n",
        "    \"epsilon_start\": EPSILON_START,\n",
        "    \"epsilon_end\": EPSILON_END,\n",
        "    \"epsilon_decay\": EPSILON_DECAY,\n",
        "    \"num_bots\": NUM_BOTS,\n",
        "    \"episode_timeout\": EPISODE_TIMEOUT,\n",
        "    \"use_grayscale\": USE_GRAYSCALE,\n",
        "    \"extra_state\": PLAYER_CONFIG[\"extra_state\"],\n",
        "    \"hud\": PLAYER_CONFIG[\"hud\"],\n",
        "    \"crosshair\": PLAYER_CONFIG[\"crosshair\"],\n",
        "    \"screen_format\": PLAYER_CONFIG[\"screen_format\"].name,\n",
        "    \"doom_map\": \"ROOM\",\n",
        "})\n",
        "callback = EpisodeCallback()\n",
        "\n",
        "total_timesteps = 1000000\n",
        "model.learn(total_timesteps=total_timesteps, callback=callback, progress_bar=True)\n",
        "final_model = model\n"
      ]
    },
    {
      "cell_type": "markdown",
      "metadata": {
        "id": "OpBx9O9yzP66"
      },
      "source": [
        "## Dump to ONNX"
      ]
    },
    {
      "cell_type": "code",
      "execution_count": null,
      "metadata": {
        "id": "YNkgBbUSzP66"
      },
      "outputs": [],
      "source": [
        "import onnx\n",
        "import json\n",
        "\n",
        "\n",
        "def onnx_dump(env, model, config, filename: str):\n",
        "    init_state = env.reset()[0].unsqueeze(0)\n",
        "    policy_net = model.policy.q_net\n",
        "\n",
        "    torch.onnx.export(\n",
        "        policy_net.cpu(),\n",
        "        args=init_state,\n",
        "        f=filename,\n",
        "        export_params=True,\n",
        "        opset_version=11,\n",
        "        do_constant_folding=True,\n",
        "        input_names=[\"input\"],\n",
        "        output_names=[\"output\"],\n",
        "        dynamic_axes={\"input\": {0: \"batch_size\"}, \"output\": {0: \"batch_size\"}},\n",
        "    )\n",
        "    onnx_model = onnx.load(filename)\n",
        "\n",
        "    meta = onnx_model.metadata_props.add()\n",
        "    meta.key = \"config\"\n",
        "    meta.value = json.dumps(config)\n",
        "\n",
        "    onnx.save(onnx_model, filename)\n",
        "\n",
        "export_config = {\n",
        "    **PLAYER_CONFIG,\n",
        "    \"algo_type\": \"Q\",\n",
        "}\n",
        "onnx_dump(env, final_model, export_config, filename=\"model.onnx\")\n",
        "print(\"Best network exported to doom_dqn_best.onnx\")\n",
        "\n",
        "# Upload to wandb\n",
        "artifact = wandb.Artifact('model', type='model')\n",
        "artifact.add_file('model.onnx')\n",
        "run.log_artifact(artifact)\n",
        "artifact.wait()\n",
        "run.finish()"
      ]
    },
    {
      "cell_type": "markdown",
      "metadata": {
        "id": "4rZCsfQHFMu-"
      },
      "source": [
        "### Evaluation and Visualization\n",
        "\n",
        "In this final section, you can evaluate your trained agent, inspect its performance visually, and analyze reward components over time.\n"
      ]
    },
    {
      "cell_type": "code",
      "execution_count": null,
      "metadata": {
        "id": "ARC2K2k686nu"
      },
      "outputs": [],
      "source": [
        "# ---------------------------------------------------------------\n",
        "# 📈  Reward-plot helper  (feel free to edit / extend)\n",
        "# ---------------------------------------------------------------\n",
        "import pandas as pd\n",
        "import matplotlib.pyplot as plt\n",
        "\n",
        "def plot_reward_components(reward_log, smooth_window: int = 5):\n",
        "    \"\"\"\n",
        "    Plot raw and smoothed episode-level reward components.\n",
        "\n",
        "    Parameters\n",
        "    ----------\n",
        "    reward_log : list[dict]\n",
        "        Append a dict for each episode, e.g. {\"frag\": …, \"hit\": …, \"hittaken\": …}\n",
        "    smooth_window : int\n",
        "        Rolling-mean window size for the smoothed curve.\n",
        "    \"\"\"\n",
        "    if not reward_log:\n",
        "        print(\"reward_log is empty – nothing to plot.\")\n",
        "        return\n",
        "\n",
        "    df = pd.DataFrame(reward_log)\n",
        "    df_smooth = df.rolling(window=smooth_window, min_periods=1).mean()\n",
        "\n",
        "    # raw\n",
        "    plt.figure(figsize=(12, 5))\n",
        "    for col in df.columns:\n",
        "        plt.plot(df.index, df[col], label=col)\n",
        "    plt.title(\"Raw episode reward components\")\n",
        "    plt.legend(); plt.grid(True); plt.tight_layout()\n",
        "    plt.show()\n",
        "\n",
        "    # smoothed\n",
        "    plt.figure(figsize=(12, 5))\n",
        "    for col in df.columns:\n",
        "        plt.plot(df.index, df_smooth[col], label=f\"{col} (avg)\")\n",
        "    plt.title(f\"Smoothed (window={smooth_window})\")\n",
        "    plt.legend(); plt.grid(True); plt.tight_layout()\n",
        "    plt.show()\n",
        "\n",
        "\n",
        "# ----------------------------------------------------------------\n",
        "# 🔍  Hint for replay visualisation:\n",
        "# ----------------------------------------------------------------\n",
        "# env.enable_replay()\n",
        "# ... run an evaluation episode ...\n",
        "# env.disable_replay()\n",
        "# replays = env.get_player_replays()\n",
        "#\n",
        "# from doom_arena.render import render_episode\n",
        "# from IPython.display import HTML\n",
        "# HTML(render_episode(replays, subsample=5).to_html5_video())\n",
        "#\n",
        "# Feel free to adapt or write your own GIF/MP4 export.\n"
      ]
    }
  ],
  "metadata": {
    "accelerator": "GPU",
    "colab": {
      "gpuType": "T4",
      "provenance": []
    },
    "kernelspec": {
      "display_name": "Python 3 (ipykernel)",
      "language": "python",
      "name": "python3"
    },
    "language_info": {
      "codemirror_mode": {
        "name": "ipython",
        "version": 3
      },
      "file_extension": ".py",
      "mimetype": "text/x-python",
      "name": "python",
      "nbconvert_exporter": "python",
      "pygments_lexer": "ipython3",
      "version": "3.10.12"
    },
    "widgets": {
      "application/vnd.jupyter.widget-state+json": {
        "3c31dc8a260d4df1bb95e13f7eb51a24": {
          "model_module": "@jupyter-widgets/output",
          "model_module_version": "1.0.0",
          "model_name": "OutputModel",
          "state": {
            "_dom_classes": [],
            "_model_module": "@jupyter-widgets/output",
            "_model_module_version": "1.0.0",
            "_model_name": "OutputModel",
            "_view_count": null,
            "_view_module": "@jupyter-widgets/output",
            "_view_module_version": "1.0.0",
            "_view_name": "OutputView",
            "layout": "IPY_MODEL_6598c36296d741b9ba9c4027eb3e326d",
            "msg_id": "",
            "outputs": [
              {
                "data": {
                  "text/html": "<pre style=\"white-space:pre;overflow-x:auto;line-height:normal;font-family:Menlo,'DejaVu Sans Mono',consolas,'Courier New',monospace\"><span style=\"color: #800080; text-decoration-color: #800080\">   1%</span> <span style=\"color: #f92672; text-decoration-color: #f92672\">╸</span><span style=\"color: #3a3a3a; text-decoration-color: #3a3a3a\">━━━━━━━━━━━━━━━━━━━━━━━━━━━━━━━━━━━━━━━━━━━━━━━━━━━━━━━━━━</span> <span style=\"color: #008000; text-decoration-color: #008000\">10,796/1,000,000 </span> [ <span style=\"color: #808000; text-decoration-color: #808000\">0:03:40</span> &lt; <span style=\"color: #008080; text-decoration-color: #008080\">5:39:14</span> , <span style=\"color: #800000; text-decoration-color: #800000\">49 it/s</span> ]\n</pre>\n",
                  "text/plain": "\u001b[35m   1%\u001b[0m \u001b[38;2;249;38;114m╸\u001b[0m\u001b[38;5;237m━━━━━━━━━━━━━━━━━━━━━━━━━━━━━━━━━━━━━━━━━━━━━━━━━━━━━━━━━━\u001b[0m \u001b[32m10,796/1,000,000 \u001b[0m [ \u001b[33m0:03:40\u001b[0m < \u001b[36m5:39:14\u001b[0m , \u001b[31m49 it/s\u001b[0m ]\n"
                },
                "metadata": {},
                "output_type": "display_data"
              }
            ]
          }
        },
        "6598c36296d741b9ba9c4027eb3e326d": {
          "model_module": "@jupyter-widgets/base",
          "model_module_version": "1.2.0",
          "model_name": "LayoutModel",
          "state": {
            "_model_module": "@jupyter-widgets/base",
            "_model_module_version": "1.2.0",
            "_model_name": "LayoutModel",
            "_view_count": null,
            "_view_module": "@jupyter-widgets/base",
            "_view_module_version": "1.2.0",
            "_view_name": "LayoutView",
            "align_content": null,
            "align_items": null,
            "align_self": null,
            "border": null,
            "bottom": null,
            "display": null,
            "flex": null,
            "flex_flow": null,
            "grid_area": null,
            "grid_auto_columns": null,
            "grid_auto_flow": null,
            "grid_auto_rows": null,
            "grid_column": null,
            "grid_gap": null,
            "grid_row": null,
            "grid_template_areas": null,
            "grid_template_columns": null,
            "grid_template_rows": null,
            "height": null,
            "justify_content": null,
            "justify_items": null,
            "left": null,
            "margin": null,
            "max_height": null,
            "max_width": null,
            "min_height": null,
            "min_width": null,
            "object_fit": null,
            "object_position": null,
            "order": null,
            "overflow": null,
            "overflow_x": null,
            "overflow_y": null,
            "padding": null,
            "right": null,
            "top": null,
            "visibility": null,
            "width": null
          }
        }
      }
    }
  },
  "nbformat": 4,
  "nbformat_minor": 0
}
