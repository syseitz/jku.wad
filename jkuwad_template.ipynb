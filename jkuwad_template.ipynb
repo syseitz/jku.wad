{
 "cells": [
  {
   "cell_type": "markdown",
   "metadata": {
    "id": "hZLFJuX3_vID"
   },
   "source": [
    "# 🧠 Deep Reinforcement Learning — Doom Agent (SS2025)\n",
    "\n",
    "Welcome to the last assignment for the **Deep Reinforcement Learning** course (SS2025). In this notebook, you'll implement and train a reinforcement learning agent to play **Doom**.\n",
    "\n",
    "You will:\n",
    "- Set up a custom VizDoom environment with shaped rewards\n",
    "- Train an agent using an approach of your choice\n",
    "- Track reward components across episodes\n",
    "- Evaluate the best model\n",
    "- Visualize performance with replays and GIFs\n",
    "- Export the trained agent to ONNX to submit to the evaluation server"
   ]
  },
  {
   "cell_type": "code",
   "execution_count": null,
   "metadata": {
    "colab": {
     "base_uri": "https://localhost:8080/"
    },
    "id": "mi5FBK3oi1lI",
    "outputId": "6a38df99-16cd-4a65-8bb0-ead70efcbd71"
   },
   "outputs": [],
   "source": [
    "# Clone repo\n",
    "!git clone https://$token@github.com/syseitz/jku.wad.git\n",
    "%cd jku.wad"
   ]
  },
  {
   "cell_type": "code",
   "execution_count": null,
   "metadata": {
    "colab": {
     "base_uri": "https://localhost:8080/"
    },
    "id": "oYTcQU_TiP06",
    "outputId": "9ca3b3f4-26b2-4c80-8aa2-9201e1841cdc"
   },
   "outputs": [],
   "source": [
    "# Install the dependencies\n",
    "!pip install torch numpy matplotlib vizdoom portpicker gym onnx"
   ]
  },
  {
   "cell_type": "code",
   "execution_count": 29,
   "metadata": {
    "id": "8VR5QUw8ieGh"
   },
   "outputs": [],
   "source": [
    "from typing import Dict, Sequence\n",
    "\n",
    "import torch\n",
    "from collections import deque, OrderedDict\n",
    "from copy import deepcopy\n",
    "import random\n",
    "import numpy as np\n",
    "import torch.nn.functional as F\n",
    "import torch.optim as optim\n",
    "import pandas as pd\n",
    "from matplotlib import pyplot as plt\n",
    "from PIL import Image\n",
    "\n",
    "from gym import Env\n",
    "from torch import nn\n",
    "from einops import rearrange\n",
    "\n",
    "from doom_arena import VizdoomMPEnv\n",
    "from doom_arena.reward import VizDoomReward\n",
    "from doom_arena.render import render_episode\n",
    "from IPython.display import HTML\n"
   ]
  },
  {
   "cell_type": "markdown",
   "metadata": {
    "id": "pDz9CHjVzP61"
   },
   "source": [
    "## Environment configuration\n",
    "\n",
    "ViZDoom supports multiple visual buffers that can be used as input for training agents. Each buffer provides different information about the game environment, as seen from left to right:\n",
    "\n",
    "\n",
    "Screen\n",
    "- The default first-person RGB view seen by the agent.\n",
    "\n",
    "Labels\n",
    "- A semantic map where each pixel is tagged with an object ID (e.g., enemy, item, wall).\n",
    "\n",
    "Depth\n",
    "- A grayscale map showing the distance from the agent to surfaces in the scene.\n",
    "\n",
    "Automap\n",
    "- A top-down schematic view of the map, useful for global navigation tasks.\n",
    "\n",
    "![buffers gif](https://vizdoom.farama.org/_images/vizdoom-demo.gif)"
   ]
  },
  {
   "cell_type": "code",
   "execution_count": 6,
   "metadata": {
    "id": "nmNDlnmfzP62"
   },
   "outputs": [],
   "source": [
    "USE_GRAYSCALE = False # ← flip to False for RGB\n",
    "\n",
    "PLAYER_CONFIG = {\n",
    "    \"n_stack_frames\": 1,\n",
    "    \"extra_state\": [\"depth\"],\n",
    "    \"hud\": \"none\",\n",
    "    \"crosshair\": True,\n",
    "    \"screen_format\": ScreenFormat.GRAY8 if USE_GRAYSCALE else ScreenFormat.CRCGCB,  \n",
    "}"
   ]
  },
  {
   "cell_type": "code",
   "execution_count": 7,
   "metadata": {
    "id": "A3vdawvQzP62"
   },
   "outputs": [],
   "source": [
    "# TODO: environment training paramters\n",
    "N_STACK_FRAMES = 1\n",
    "NUM_BOTS = 4\n",
    "EPISODE_TIMEOUT = 1000\n",
    "# TODO: model hyperparams\n",
    "GAMMA = 0.95\n",
    "EPISODES = 100\n",
    "BATCH_SIZE = 32\n",
    "REPLAY_BUFFER_SIZE = 10000\n",
    "LEARNING_RATE = 1e-4\n",
    "EPSILON_START = 1.0\n",
    "EPSILON_END = 0.1\n",
    "EPSILON_DECAY = 0.995\n",
    "N_EPOCHS = 50"
   ]
  },
  {
   "cell_type": "markdown",
   "metadata": {
    "id": "dLoMT0EMzP63"
   },
   "source": [
    "## Reward function\n",
    "In this task, you will define a reward function to guide the agent's learning. The function is called at every step and receives the current and previous game variables (e.g., number of frags, hits taken, health).\n",
    "\n",
    "Your goal is to combine these into a meaningful reward, encouraging desirable behavior, such as:\n",
    "\n",
    "- Rewarding frags (enemy kills)\n",
    "\n",
    "- Rewarding accuracy (hitting enemies)\n",
    "\n",
    "- Penalizing damage taken\n",
    "\n",
    "- (Optional) Encouraging survival, ammo efficiency, etc.\n",
    "\n",
    "You can return multiple reward components, which are summed during training. Consider the class below as a great starting point!"
   ]
  },
  {
   "cell_type": "code",
   "execution_count": 8,
   "metadata": {
    "id": "Gq1xlneLzP63"
   },
   "outputs": [],
   "source": [
    "class YourReward(VizDoomReward):\n",
    "    def __init__(self, num_players: int):\n",
    "        super().__init__(num_players)\n",
    "\n",
    "    def __call__(\n",
    "        self,\n",
    "        vizdoom_reward: float,\n",
    "        game_var: Dict[str, float],\n",
    "        game_var_old: Dict[str, float],\n",
    "        player_id: int,\n",
    "    ) -> Tuple[float, float, float]:\n",
    "        \"\"\"\n",
    "        Custom reward function used by both training and evaluation.\n",
    "        *  +100  for every new frag\n",
    "        *  +2    for every hit landed\n",
    "        *  -0.1  for every hit taken\n",
    "        \"\"\"\n",
    "        self._step += 1\n",
    "        _ = vizdoom_reward, player_id  # unused\n",
    "\n",
    "        rwd_hit        =  2.0  * (game_var[\"HITCOUNT\"]   - game_var_old[\"HITCOUNT\"])\n",
    "        rwd_hit_taken  = -0.1  * (game_var[\"HITS_TAKEN\"] - game_var_old[\"HITS_TAKEN\"])\n",
    "        rwd_frag       = 100.0 * (game_var[\"FRAGCOUNT\"]  - game_var_old[\"FRAGCOUNT\"])\n",
    "\n",
    "        return rwd_hit, rwd_hit_taken, rwd_frag\n"
   ]
  },
  {
   "cell_type": "code",
   "execution_count": null,
   "metadata": {
    "colab": {
     "base_uri": "https://localhost:8080/"
    },
    "id": "OzTS4m2VzP63",
    "outputId": "369317da-3265-4f5c-b2f1-7990ca7d1f44"
   },
   "outputs": [],
   "source": [
    "device = \"cuda\"\n",
    "DTYPE = torch.float32\n",
    "\n",
    "reward_fn = YourReward(num_players=1)\n",
    "\n",
    "env = VizdoomMPEnv(\n",
    "    num_players=1,\n",
    "    num_bots=NUM_BOTS,\n",
    "    bot_skill=0,  \n",
    "    doom_map=\"ROOM\",  # NOTE simple, small map; other options: TRNM, TRNMBIG\n",
    "    extra_state=PLAYER_CONFIG[\"extra_state\"], # see info about states at the beginning of 'Environment configuration' above\n",
    "    episode_timeout=EPISODE_TIMEOUT,\n",
    "    n_stack_frames=PLAYER_CONFIG[\"n_stack_frames\"],\n",
    "    crosshair=PLAYER_CONFIG[\"crosshair\"],\n",
    "    hud=PLAYER_CONFIG[\"hud\"],\n",
    "    reward_fn=reward_fn,\n",
    ")"
   ]
  },
  {
   "cell_type": "markdown",
   "metadata": {
    "id": "KkuIefaSzP64"
   },
   "source": [
    "## Agent\n",
    "\n",
    "Implement **your own agent** in the code cell that follows.\n",
    "\n",
    "* In `agents/dqn.py` and `agents/ppo.py` you’ll find very small **skeletons**—they compile but are meant only as reference or quick tests.  \n",
    "  Feel free to open them, borrow ideas, extend them, or ignore them entirely.\n",
    "* The notebook does **not** import those files automatically; whatever class you define in the next cell is the one that will be trained.\n",
    "* You may keep the DQN interface, switch to PPO, or try something else.\n",
    "* Tweak any hyper-parameters (`PLAYER_CONFIG`, ε-schedule, optimiser, etc.) and document what you tried.\n"
   ]
  },
  {
   "cell_type": "code",
   "execution_count": 10,
   "metadata": {
    "id": "pP6UxV5NzP64"
   },
   "outputs": [],
   "source": [
    "# ================================================================\n",
    "# DQN — design your network here\n",
    "# ================================================================\n",
    "\n",
    "class DQN(nn.Module):\n",
    "    \"\"\"\n",
    "    Deep-Q Network template.\n",
    "\n",
    "    Expected behaviour\n",
    "    ------------------\n",
    "    forward(frame)      # frame: (B, C, H, W)  →  Q-values: (B, num_actions)\n",
    "\n",
    "    What to add / change\n",
    "    --------------------\n",
    "    • Replace the two `NotImplementedError` lines.\n",
    "    • Build an encoder (Conv2d / Conv3d) + a head (MLP or duelling).  \n",
    "    • Feel free to use residual blocks from `agents/utils.py` or any design you like.\n",
    "    \"\"\"\n",
    "\n",
    "    def __init__(self, input_dim: int, action_space: int, hidden: int = 128):\n",
    "        super().__init__()\n",
    "\n",
    "        # -------- TODO: define your layers ------------------------\n",
    "        # Example (very small) baseline — delete or improve:\n",
    "        #\n",
    "        # self.encoder = nn.Sequential(\n",
    "        #     nn.Conv2d(input_dim, 32, 8, stride=4), nn.ReLU(),\n",
    "        #     nn.Conv2d(32, 64, 4, stride=2),       nn.ReLU(),\n",
    "        #     nn.Conv2d(64, 64, 3, stride=1),       nn.ReLU(),\n",
    "        # )\n",
    "        # self.head = nn.Sequential(\n",
    "        #     nn.Flatten(),\n",
    "        #     nn.Linear(64 * 7 * 7, hidden), nn.ReLU(),\n",
    "        #     nn.Linear(hidden, action_space),\n",
    "        # )\n",
    "        #\n",
    "        # -----------------------------------------------------------\n",
    "        self.encoder = nn.Sequential(\n",
    "            nn.Conv2d(input_dim, 32, 8, stride=4),\n",
    "            nn.ReLU(),\n",
    "            nn.Conv2d(32, 64, 4, stride=2),\n",
    "            nn.ReLU(),\n",
    "            nn.Conv2d(64, 64, 3, stride=1),\n",
    "            nn.ReLU(),\n",
    "            nn.AdaptiveAvgPool2d((5, 5)),\n",
    "        )\n",
    "        self.head = nn.Sequential(\n",
    "            nn.Flatten(),\n",
    "            nn.Linear(64 * 5 * 5, hidden),\n",
    "            nn.ReLU(),\n",
    "            nn.Linear(hidden, action_space),\n",
    "        )\n",
    "\n",
    "    def forward(self, frame: torch.Tensor) -> torch.Tensor:\n",
    "        # -------- TODO: implement forward -------------------------\n",
    "        #\n",
    "        x = self.encoder(frame)\n",
    "        x = self.head(x)\n",
    "        return x\n",
    "        # -----------------------------------------------------------\n",
    "\n",
    "@torch.no_grad\n",
    "def epsilon_greedy(\n",
    "    env: Env,\n",
    "    model: nn.Module,\n",
    "    obs: torch.Tensor,\n",
    "    epsilon: float,\n",
    "    device: torch.device,\n",
    "    dtype: torch.dtype,\n",
    "):\n",
    "    if random.random() < epsilon:\n",
    "        return env.action_space.sample()\n",
    "    obs = obs.to(device, dtype=dtype).unsqueeze(0)\n",
    "    return model(obs).argmax(dim=1).item()\n",
    "\n",
    "\n",
    "@torch.no_grad()\n",
    "def update_ema(ema_model: nn.Module, model: nn.Module, decay: float = 0.995):\n",
    "    ema_params = OrderedDict(ema_model.named_parameters())\n",
    "    model_params = OrderedDict(model.named_parameters())\n",
    "    for name, param in model_params.items():\n",
    "        ema_params[name].mul_(decay).add_(param.data, alpha=1 - decay)\n"
   ]
  },
  {
   "cell_type": "code",
   "execution_count": 11,
   "metadata": {
    "id": "n7dWjwTdzP65"
   },
   "outputs": [],
   "source": [
    "# ================================================================\n",
    "# Initialise your networks and training utilities\n",
    "# ================================================================\n",
    "\n",
    "# main Q-network\n",
    "in_channels = env.observation_space.shape[0]   # 1 if grayscale, else 3/4\n",
    "model = DQN(\n",
    "    input_dim    = in_channels,\n",
    "    action_space = env.action_space.n,\n",
    "    hidden       = 64,   # change or ignore\n",
    ").to(device, dtype=DTYPE)\n",
    "\n",
    "# TODO ------------------------------------------------------------\n",
    "# 1. Create a target network (hard-copy or EMA)\n",
    "# 2. Choose an optimiser + learning-rate schedule\n",
    "# 3. Instantiate a replay buffer and set the initial epsilon value\n",
    "#\n",
    "# Hints:\n",
    "#   model_tgt  = deepcopy(model).to(device)\n",
    "#   optimiser  = torch.optim.Adam(...)\n",
    "#   scheduler  = torch.optim.lr_scheduler.ExponentialLR(...)\n",
    "#   replay_buf = collections.deque(maxlen=...)\n",
    "# ---------------------------------------------------------------\n",
    "\n",
    "model_tgt = deepcopy(model).to(device, dtype=DTYPE)\n",
    "optimizer = optim.Adam(model.parameters(), lr=LEARNING_RATE)\n",
    "scheduler = optim.lr_scheduler.ExponentialLR(optimizer, gamma=0.99)\n",
    "replay_buffer = deque(maxlen=REPLAY_BUFFER_SIZE)\n",
    "epsilon = EPSILON_START\n"
   ]
  },
  {
   "cell_type": "markdown",
   "metadata": {
    "id": "mihj8Q5xzP65"
   },
   "source": [
    "## Training loop"
   ]
  },
  {
   "cell_type": "code",
   "execution_count": null,
   "metadata": {
    "id": "W5V4XMeIk5Uv"
   },
   "outputs": [],
   "source": [
    "# ---------------------  TRAINING LOOP  ----------------------\n",
    "# Feel free to change EVERYTHING below:\n",
    "#   • choose your own reward function\n",
    "#   • track different episode statistics in `ep_metrics`\n",
    "#   • switch optimiser, scheduler, update rules, etc.\n",
    "\n",
    "reward_list, q_loss_list = [], []\n",
    "best_eval_return, best_model = float(\"-inf\"), None\n",
    "\n",
    "for episode in range(EPISODES):\n",
    "    ep_metrics = {\"custom_reward\": 0.0}     # ← add or replace keys as you like\n",
    "    obs        = env.reset()[0]\n",
    "    done, ep_return = False, 0.0\n",
    "    model.eval()\n",
    "\n",
    "    # ───────── rollout ─────────────────────────────────────────────\n",
    "    while not done:\n",
    "        act = epsilon_greedy(env, model, obs, epsilon, device, DTYPE)\n",
    "        next_obs, rwd_raw, done, _ = env.step(act)\n",
    "\n",
    "        # ----- reward definition (EDIT here) ----------------\n",
    "        custom_rwd = float(rwd_raw[0])      # default: raw env reward\n",
    "        # Example: access game variables for more detailed reward engineering\n",
    "        # gv, gv_pre = env.envs[0].unwrapped._game_vars, env.envs[0].unwrapped._game_vars_pre\n",
    "        # custom_rwd = your_function(gv, gv_pre)\n",
    "\n",
    "        ep_metrics[\"custom_reward\"] += custom_rwd\n",
    "\n",
    "        replay_buffer.append((obs, act, custom_rwd, next_obs[0], done))\n",
    "        obs, ep_return = next_obs[0], ep_return + custom_rwd\n",
    "    reward_list.append(ep_return)\n",
    "\n",
    "    # ───────── learning step (experience replay) ──────────────────\n",
    "    if len(replay_buffer) >= BATCH_SIZE:\n",
    "        model.train()\n",
    "        for _ in range(N_EPOCHS):\n",
    "            batch = random.sample(replay_buffer, BATCH_SIZE)\n",
    "            s, a, r, s2, d = zip(*batch)\n",
    "\n",
    "            s   = torch.stack(s).to(device, dtype=DTYPE)\n",
    "            s2  = torch.stack(s2).to(device, dtype=DTYPE)\n",
    "            a   = torch.tensor(a , device=device)\n",
    "            r   = torch.tensor(r , device=device, dtype=torch.float32)\n",
    "            d   = torch.tensor(d , device=device, dtype=torch.float32)\n",
    "\n",
    "            q    = model(s).gather(1, a.unsqueeze(1)).squeeze(1)\n",
    "            with torch.no_grad():\n",
    "                q2 = model_tgt(s2).max(1).values\n",
    "                tgt = r + GAMMA * q2 * (1 - d)\n",
    "            loss = F.mse_loss(q, tgt)\n",
    "\n",
    "            optimizer.zero_grad()\n",
    "            loss.backward()\n",
    "            optimizer.step()\n",
    "            q_loss_list.append(loss.item())\n",
    "        update_ema(model_tgt, model)\n",
    "\n",
    "    scheduler.step()\n",
    "    epsilon = max(EPSILON_END, epsilon * EPSILON_DECAY)\n",
    "    print(f\"Ep {episode+1:03}: return {ep_return:6.1f}  |  ε {epsilon:.3f}\")\n",
    "\n",
    "    # ───────── quick evaluation for best-model tracking ───────────\n",
    "    eval_obs, done, eval_return = env.reset()[0], False, 0.0\n",
    "    model.eval()\n",
    "    while not done:\n",
    "        act = epsilon_greedy(env, model, eval_obs, 0.05, device, DTYPE)\n",
    "        eval_obs_n, r, done, _ = env.step(act)\n",
    "        eval_obs = eval_obs_n[0]\n",
    "        eval_return += r[0]\n",
    "    if eval_return > best_eval_return:\n",
    "        best_eval_return, best_model = eval_return, deepcopy(model)\n",
    "\n",
    "# ---------------------  SAVE / EXPORT ---------------------------------------\n",
    "final_model = best_model if best_model is not None else model          # choose best\n"
   ]
  },
  {
   "cell_type": "markdown",
   "metadata": {
    "id": "OpBx9O9yzP66"
   },
   "source": [
    "## Dump to ONNX"
   ]
  },
  {
   "cell_type": "code",
   "execution_count": null,
   "metadata": {
    "id": "YNkgBbUSzP66"
   },
   "outputs": [],
   "source": [
    "import onnx\n",
    "import json\n",
    "\n",
    "\n",
    "def onnx_dump(env, model, config, filename: str):\n",
    "    # dummy state\n",
    "    init_state = env.reset()[0].unsqueeze(0)\n",
    "\n",
    "\n",
    "    # Export to ONNX\n",
    "    torch.onnx.export(\n",
    "        model.cpu(),\n",
    "        args=init_state,\n",
    "        f=filename,\n",
    "        export_params=True,\n",
    "        opset_version=11,\n",
    "        do_constant_folding=True,\n",
    "        input_names=[\"input\"],\n",
    "        output_names=[\"output\"],\n",
    "        dynamic_axes={\"input\": {0: \"batch_size\"}, \"output\": {0: \"batch_size\"}},\n",
    "    )\n",
    "    onnx_model = onnx.load(filename)\n",
    "\n",
    "    meta = onnx_model.metadata_props.add()\n",
    "    meta.key = \"config\"\n",
    "    meta.value = json.dumps(config)\n",
    "\n",
    "    onnx.save(onnx_model, filename)\n",
    "\n",
    "onnx_dump(env, final_model, PLAYER_CONFIG, filename=\"model.onnx\")\n",
    "print(\"Best network exported to doom_dqn_best.onnx\")"
   ]
  },
  {
   "cell_type": "markdown",
   "metadata": {
    "id": "4rZCsfQHFMu-"
   },
   "source": [
    "### Evaluation and Visualization\n",
    "\n",
    "In this final section, you can evaluate your trained agent, inspect its performance visually, and analyze reward components over time.\n"
   ]
  },
  {
   "cell_type": "code",
   "execution_count": 1,
   "metadata": {
    "id": "ARC2K2k686nu"
   },
   "outputs": [],
   "source": [
    "# ---------------------------------------------------------------\n",
    "# 📈  Reward-plot helper  (feel free to edit / extend)\n",
    "# ---------------------------------------------------------------\n",
    "import pandas as pd\n",
    "import matplotlib.pyplot as plt\n",
    "\n",
    "def plot_reward_components(reward_log, smooth_window: int = 5):\n",
    "    \"\"\"\n",
    "    Plot raw and smoothed episode-level reward components.\n",
    "\n",
    "    Parameters\n",
    "    ----------\n",
    "    reward_log : list[dict]\n",
    "        Append a dict for each episode, e.g. {\"frag\": …, \"hit\": …, \"hittaken\": …}\n",
    "    smooth_window : int\n",
    "        Rolling-mean window size for the smoothed curve.\n",
    "    \"\"\"\n",
    "    if not reward_log:\n",
    "        print(\"reward_log is empty – nothing to plot.\")\n",
    "        return\n",
    "\n",
    "    df = pd.DataFrame(reward_log)\n",
    "    df_smooth = df.rolling(window=smooth_window, min_periods=1).mean()\n",
    "\n",
    "    # raw\n",
    "    plt.figure(figsize=(12, 5))\n",
    "    for col in df.columns:\n",
    "        plt.plot(df.index, df[col], label=col)\n",
    "    plt.title(\"Raw episode reward components\")\n",
    "    plt.legend(); plt.grid(True); plt.tight_layout()\n",
    "    plt.show()\n",
    "\n",
    "    # smoothed\n",
    "    plt.figure(figsize=(12, 5))\n",
    "    for col in df.columns:\n",
    "        plt.plot(df.index, df_smooth[col], label=f\"{col} (avg)\")\n",
    "    plt.title(f\"Smoothed (window={smooth_window})\")\n",
    "    plt.legend(); plt.grid(True); plt.tight_layout()\n",
    "    plt.show()\n",
    "\n",
    "\n",
    "# ----------------------------------------------------------------\n",
    "# 🔍  Hint for replay visualisation:\n",
    "# ----------------------------------------------------------------\n",
    "# env.enable_replay()\n",
    "# ... run an evaluation episode ...\n",
    "# env.disable_replay()\n",
    "# replays = env.get_player_replays()\n",
    "#\n",
    "# from doom_arena.render import render_episode\n",
    "# from IPython.display import HTML\n",
    "# HTML(render_episode(replays, subsample=5).to_html5_video())\n",
    "#\n",
    "# Feel free to adapt or write your own GIF/MP4 export.\n"
   ]
  }
 ],
 "metadata": {
  "accelerator": "GPU",
  "colab": {
   "gpuType": "T4",
   "provenance": []
  },
  "kernelspec": {
   "display_name": "Python 3 (ipykernel)",
   "language": "python",
   "name": "python3"
  },
  "language_info": {
   "codemirror_mode": {
    "name": "ipython",
    "version": 3
   },
   "file_extension": ".py",
   "mimetype": "text/x-python",
   "name": "python",
   "nbconvert_exporter": "python",
   "pygments_lexer": "ipython3",
   "version": "3.13.3"
  }
 },
 "nbformat": 4,
 "nbformat_minor": 4
}
